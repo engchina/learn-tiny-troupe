{
 "cells": [
  {
   "cell_type": "markdown",
   "metadata": {},
   "source": [
    "# Online Advertisement Evaluation for TVs\n",
    "\n",
    "Let's evaluate some online ads options to pick the best one."
   ]
  },
  {
   "cell_type": "code",
   "execution_count": 1,
   "metadata": {},
   "outputs": [
    {
     "data": {
      "text/plain": [
       "True"
      ]
     },
     "execution_count": 1,
     "metadata": {},
     "output_type": "execute_result"
    }
   ],
   "source": [
    "from dotenv import find_dotenv, load_dotenv\n",
    "# read local .env file\n",
    "load_dotenv(find_dotenv())"
   ]
  },
  {
   "cell_type": "code",
   "execution_count": 2,
   "metadata": {},
   "outputs": [
    {
     "name": "stdout",
     "output_type": "stream",
     "text": [
      "\n",
      "!!!!\n",
      "DISCLAIMER: TinyTroupe relies on Artificial Intelligence (AI) models to generate content. \n",
      "The AI models are not perfect and may produce inappropriate or inacurate results. \n",
      "For any serious or consequential use, please review the generated content before using it.\n",
      "!!!!\n",
      "\n",
      "Looking for default config on: /mnt/e/workspace/learn-tiny-troupe/examples/../tinytroupe/config.ini\n",
      "Found custom config on: /mnt/e/workspace/learn-tiny-troupe/examples/config.ini\n",
      "\n",
      "=================================\n",
      "Current TinyTroupe configuration \n",
      "=================================\n",
      "[OpenAI]\n",
      "api_type = openai\n",
      "azure_api_version = 2023-05-15\n",
      "openai_base_url = http://192.168.31.15:8000/v1\n",
      "model = gpt-4\n",
      "top_p = 0.75\n",
      "max_tokens = 4000\n",
      "temperature = 0.3\n",
      "freq_penalty = 0.0\n",
      "presence_penalty = 0.0\n",
      "timeout = 60\n",
      "max_attempts = 5\n",
      "waiting_time = 1\n",
      "exponential_backoff_factor = 5\n",
      "embedding_base_url = http://192.168.31.20:7965/v1\n",
      "embedding_model = text-embedding-3-large\n",
      "cache_api_calls = False\n",
      "cache_file_name = openai_api_cache.pickle\n",
      "max_content_display_length = 1024\n",
      "\n",
      "[Simulation]\n",
      "rai_harmful_content_prevention = True\n",
      "rai_copyright_infringement_prevention = True\n",
      "\n",
      "[Logging]\n",
      "loglevel = ERROR\n",
      "\n"
     ]
    }
   ],
   "source": [
    "import json\n",
    "import sys\n",
    "sys.path.append('..')\n",
    "\n",
    "import tinytroupe\n",
    "from tinytroupe.agent import TinyPerson\n",
    "from tinytroupe.examples import create_lisa_the_data_scientist, create_oscar_the_architect\n",
    "from tinytroupe.factory import TinyPersonFactory\n",
    "\n",
    "from tinytroupe.extraction import ResultsExtractor"
   ]
  },
  {
   "cell_type": "markdown",
   "metadata": {},
   "source": [
    "## Judging the best ad\n",
    "\n",
    "Consider the following ads, obtained from real Bing queries."
   ]
  },
  {
   "cell_type": "code",
   "execution_count": 3,
   "metadata": {},
   "outputs": [],
   "source": [
    "# User search query: \"55 inches tv\"\n",
    "\n",
    "tv_ad_1 =\\\n",
    "\"\"\"\n",
    "The Best TV Of Tomorrow - LG 4K Ultra HD TV\n",
    "https://www.lg.com/tv/oled\n",
    "AdThe Leading Name in Cinematic Picture. Upgrade Your TV to 4K OLED And See The Difference. It's Not Just OLED, It's LG OLED. Exclusive a9 Processor, Bringing Cinematic Picture Home.\n",
    "\n",
    "Infinite Contrast · Self-Lighting OLED · Dolby Vision™ IQ · ThinQ AI w/ Magic Remote\n",
    "\n",
    "Free Wall Mounting Deal\n",
    "LG G2 97\" OLED evo TV\n",
    "Free TV Stand w/ Purchase\n",
    "World's No.1 OLED TV\n",
    "\"\"\"\n",
    "\n",
    "tv_ad_2 =\\\n",
    "\"\"\"\n",
    "The Full Samsung TV Lineup - Neo QLED, OLED, 4K, 8K & More\n",
    "https://www.samsung.com\n",
    "AdFrom 4K To 8K, QLED To OLED, Lifestyle TVs & More, Your Perfect TV Is In Our Lineup. Experience Unrivaled Technology & Design In Our Ultra-Premium 8K & 4K TVs.\n",
    "\n",
    "Discover Samsung Event · Real Depth Enhancer · Anti-Reflection · 48 mo 0% APR Financing\n",
    "\n",
    "The 2023 OLED TV Is Here\n",
    "Samsung Neo QLED 4K TVs\n",
    "Samsung Financing\n",
    "Ranked #1 By The ACSI®\n",
    "\"\"\"\n",
    "\n",
    "tv_ad_3 =\\\n",
    "\"\"\"\n",
    "Wayfair 55 Inch Tv - Wayfair 55 Inch Tv Décor\n",
    "Shop Now\n",
    "https://www.wayfair.com/furniture/free-shipping\n",
    "AdFree Shipping on Orders Over $35. Shop Furniture, Home Décor, Cookware & More! Free Shipping on All Orders Over $35. Shop 55 Inch Tv, Home Décor, Cookware & More!\n",
    "\"\"\""
   ]
  },
  {
   "cell_type": "markdown",
   "metadata": {},
   "source": [
    "Let's build a request for our agents to pick the best ad."
   ]
  },
  {
   "cell_type": "code",
   "execution_count": 4,
   "metadata": {},
   "outputs": [
    {
     "name": "stdout",
     "output_type": "stream",
     "text": [
      "\n",
      "Can you evaluate these Bing ads for me? Which one convices you more to buy their particular offering? Select **ONLY** one. Please explain your reasoning, based on your background and personality.\n",
      "\n",
      "# AD 1\n",
      "```\n",
      "\n",
      "The Best TV Of Tomorrow - LG 4K Ultra HD TV\n",
      "https://www.lg.com/tv/oled\n",
      "AdThe Leading Name in Cinematic Picture. Upgrade Your TV to 4K OLED And See The Difference. It's Not Just OLED, It's LG OLED. Exclusive a9 Processor, Bringing Cinematic Picture Home.\n",
      "\n",
      "Infinite Contrast · Self-Lighting OLED · Dolby Vision™ IQ · ThinQ AI w/ Magic Remote\n",
      "\n",
      "Free Wall Mounting Deal\n",
      "LG G2 97\" OLED evo TV\n",
      "Free TV Stand w/ Purchase\n",
      "World's No.1 OLED TV\n",
      "\n",
      "```\n",
      "\n",
      "# AD 2\n",
      "```\n",
      "\n",
      "The Full Samsung TV Lineup - Neo QLED, OLED, 4K, 8K & More\n",
      "https://www.samsung.com\n",
      "AdFrom 4K To 8K, QLED To OLED, Lifestyle TVs & More, Your Perfect TV Is In Our Lineup. Experience Unrivaled Technology & Design In Our Ultra-Premium 8K & 4K TVs.\n",
      "\n",
      "Discover Samsung Event · Real Depth Enhancer · Anti-Reflection · 48 mo 0% APR Financing\n",
      "\n",
      "The 2023 OLED TV Is Here\n",
      "Samsung Neo QLED 4K TVs\n",
      "Samsung Financing\n",
      "Ranked #1 By The ACSI®\n",
      "\n",
      "```\n",
      "\n",
      "# AD 3\n",
      "```\n",
      "\n",
      "Wayfair 55 Inch Tv - Wayfair 55 Inch Tv Décor\n",
      "Shop Now\n",
      "https://www.wayfair.com/furniture/free-shipping\n",
      "AdFree Shipping on Orders Over $35. Shop Furniture, Home Décor, Cookware & More! Free Shipping on All Orders Over $35. Shop 55 Inch Tv, Home Décor, Cookware & More!\n",
      "\n",
      "```\n",
      "\n"
     ]
    }
   ],
   "source": [
    "eval_request_msg = \\\n",
    "f\"\"\"\n",
    "Can you evaluate these Bing ads for me? Which one convices you more to buy their particular offering? Select **ONLY** one. Please explain your reasoning, based on your background and personality.\n",
    "\n",
    "# AD 1\n",
    "```\n",
    "{tv_ad_1}\n",
    "```\n",
    "\n",
    "# AD 2\n",
    "```\n",
    "{tv_ad_2}\n",
    "```\n",
    "\n",
    "# AD 3\n",
    "```\n",
    "{tv_ad_3}\n",
    "```\n",
    "\"\"\"\n",
    "\n",
    "print(eval_request_msg)"
   ]
  },
  {
   "cell_type": "markdown",
   "metadata": {},
   "source": [
    "Let's also have a reason for them to require a new TV."
   ]
  },
  {
   "cell_type": "code",
   "execution_count": 5,
   "metadata": {},
   "outputs": [],
   "source": [
    "situation = \"Your TV broke and you need a new one. You search for a new TV on Bing.\""
   ]
  },
  {
   "cell_type": "markdown",
   "metadata": {},
   "source": [
    "### Try with standard agents\n",
    "\n",
    "To begin with, let's pick a pre-defined agent and ask him or her to perform the evaluations. To make it easier to change the chosen agent, we assign it to a variable first."
   ]
  },
  {
   "cell_type": "code",
   "execution_count": 6,
   "metadata": {},
   "outputs": [
    {
     "data": {
      "text/plain": [
       "{}"
      ]
     },
     "execution_count": 6,
     "metadata": {},
     "output_type": "execute_result"
    }
   ],
   "source": [
    "TinyPerson.all_agents"
   ]
  },
  {
   "cell_type": "code",
   "execution_count": 7,
   "metadata": {},
   "outputs": [],
   "source": [
    "lisa = create_lisa_the_data_scientist()"
   ]
  },
  {
   "cell_type": "code",
   "execution_count": 8,
   "metadata": {},
   "outputs": [],
   "source": [
    "lisa.change_context(situation)"
   ]
  },
  {
   "cell_type": "code",
   "execution_count": 9,
   "metadata": {},
   "outputs": [
    {
     "data": {
      "text/html": [
       "<pre style=\"margin:0px;;white-space:pre;overflow-x:auto;line-height:normal;font-family:Menlo,'DejaVu Sans Mono',consolas,'Courier New',monospace\"><span style=\"color: #00ffff; text-decoration-color: #00ffff; font-weight: bold; font-style: italic; text-decoration: underline\">USER</span><span style=\"color: #00ffff; text-decoration-color: #00ffff; font-weight: bold; font-style: italic\"> --&gt; </span><span style=\"color: #00ffff; text-decoration-color: #00ffff; font-weight: bold; font-style: italic; text-decoration: underline\">Lisa</span><span style=\"color: #00ffff; text-decoration-color: #00ffff; font-weight: bold; font-style: italic\">: [CONVERSATION] </span>\n",
       "<span style=\"color: #00ffff; text-decoration-color: #00ffff; font-weight: bold; font-style: italic\">          &gt;  Can you evaluate these Bing ads for me? Which one convices you more to buy their</span>\n",
       "<span style=\"color: #00ffff; text-decoration-color: #00ffff; font-weight: bold; font-style: italic\">          &gt; particular offering? Select **ONLY** one. Please explain your reasoning, based on your</span>\n",
       "<span style=\"color: #00ffff; text-decoration-color: #00ffff; font-weight: bold; font-style: italic\">          &gt; background and personality.  # AD 1 ```  The Best TV Of Tomorrow - LG 4K Ultra HD TV</span>\n",
       "<span style=\"color: #00ffff; text-decoration-color: #00ffff; font-weight: bold; font-style: italic\">          &gt; </span><span style=\"color: #00ffff; text-decoration-color: #00ffff; font-weight: bold; font-style: italic; text-decoration: underline\">https://www.lg.com/tv/oled</span><span style=\"color: #00ffff; text-decoration-color: #00ffff; font-weight: bold; font-style: italic\"> AdThe Leading Name in Cinematic Picture. Upgrade Your TV to</span>\n",
       "<span style=\"color: #00ffff; text-decoration-color: #00ffff; font-weight: bold; font-style: italic\">          &gt; 4K OLED And See The Difference. It's Not Just OLED, It's LG OLED. Exclusive a9</span>\n",
       "<span style=\"color: #00ffff; text-decoration-color: #00ffff; font-weight: bold; font-style: italic\">          &gt; Processor, Bringing Cinematic Picture Home.  Infinite Contrast · Self-Lighting OLED ·</span>\n",
       "<span style=\"color: #00ffff; text-decoration-color: #00ffff; font-weight: bold; font-style: italic\">          &gt; Dolby Vision™ IQ · ThinQ AI w/ Magic Remote  Free Wall Mounting Deal LG G2 97\" OLED evo</span>\n",
       "<span style=\"color: #00ffff; text-decoration-color: #00ffff; font-weight: bold; font-style: italic\">          &gt; TV Free TV Stand w/ Purchase World's No.1 OLED TV  ```  # AD 2 ```  The Full Samsung TV</span>\n",
       "<span style=\"color: #00ffff; text-decoration-color: #00ffff; font-weight: bold; font-style: italic\">          &gt; Lineup - Neo QLED, OLED, 4K, 8K &amp; More </span><span style=\"color: #00ffff; text-decoration-color: #00ffff; font-weight: bold; font-style: italic; text-decoration: underline\">https://www.samsung.com</span><span style=\"color: #00ffff; text-decoration-color: #00ffff; font-weight: bold; font-style: italic\"> AdFrom 4K To 8K, QLED To</span>\n",
       "<span style=\"color: #00ffff; text-decoration-color: #00ffff; font-weight: bold; font-style: italic\">          &gt; OLED, Lifestyle TVs &amp; More, Your Perfect TV Is In Our Lineup. Experience Unrivaled</span>\n",
       "<span style=\"color: #00ffff; text-decoration-color: #00ffff; font-weight: bold; font-style: italic\">          &gt; Technology &amp; Design In Our Ultra-Premium 8K &amp; 4K TVs.  Discover Samsung Event · Real</span>\n",
       "<span style=\"color: #00ffff; text-decoration-color: #00ffff; font-weight: bold; font-style: italic\">          &gt; Depth Enhancer · Anti-Reflection · 48 mo 0% APR Financing  The 2023 OLED TV Is Here Sa</span>\n",
       "<span style=\"color: #00ffff; text-decoration-color: #00ffff; font-weight: bold; font-style: italic\">          &gt; (...)</span>\n",
       "</pre>\n"
      ],
      "text/plain": [
       "\u001b[1;3;4;38;5;51mUSER\u001b[0m\u001b[1;3;38;5;51m --> \u001b[0m\u001b[1;3;4;38;5;51mLisa\u001b[0m\u001b[1;3;38;5;51m: \u001b[0m\u001b[1;3;38;5;51m[\u001b[0m\u001b[1;3;38;5;51mCONVERSATION\u001b[0m\u001b[1;3;38;5;51m]\u001b[0m\u001b[1;3;38;5;51m \u001b[0m\n",
       "\u001b[1;3;38;5;51m          >  Can you evaluate these Bing ads for me? Which one convices you more to buy their\u001b[0m\n",
       "\u001b[1;3;38;5;51m          > particular offering? Select **ONLY** one. Please explain your reasoning, based on your\u001b[0m\n",
       "\u001b[1;3;38;5;51m          > background and personality.  # AD \u001b[0m\u001b[1;3;38;5;51m1\u001b[0m\u001b[1;3;38;5;51m ```  The Best TV Of Tomorrow - LG 4K Ultra HD TV\u001b[0m\n",
       "\u001b[1;3;38;5;51m          > \u001b[0m\u001b[1;3;4;38;5;51mhttps://www.lg.com/tv/oled\u001b[0m\u001b[1;3;38;5;51m AdThe Leading Name in Cinematic Picture. Upgrade Your TV to\u001b[0m\n",
       "\u001b[1;3;38;5;51m          > 4K OLED And See The Difference. It's Not Just OLED, It's LG OLED. Exclusive a9\u001b[0m\n",
       "\u001b[1;3;38;5;51m          > Processor, Bringing Cinematic Picture Home.  Infinite Contrast · Self-Lighting OLED ·\u001b[0m\n",
       "\u001b[1;3;38;5;51m          > Dolby Vision™ IQ · ThinQ AI w/ Magic Remote  Free Wall Mounting Deal LG G2 \u001b[0m\u001b[1;3;38;5;51m97\u001b[0m\u001b[1;3;38;5;51m\" OLED evo\u001b[0m\n",
       "\u001b[1;3;38;5;51m          > TV Free TV Stand w/ Purchase World's No.\u001b[0m\u001b[1;3;38;5;51m1\u001b[0m\u001b[1;3;38;5;51m OLED TV  ```  # AD \u001b[0m\u001b[1;3;38;5;51m2\u001b[0m\u001b[1;3;38;5;51m ```  The Full Samsung TV\u001b[0m\n",
       "\u001b[1;3;38;5;51m          > Lineup - Neo QLED, OLED, 4K, 8K & More \u001b[0m\u001b[1;3;4;38;5;51mhttps://www.samsung.com\u001b[0m\u001b[1;3;38;5;51m AdFrom 4K To 8K, QLED To\u001b[0m\n",
       "\u001b[1;3;38;5;51m          > OLED, Lifestyle TVs & More, Your Perfect TV Is In Our Lineup. Experience Unrivaled\u001b[0m\n",
       "\u001b[1;3;38;5;51m          > Technology & Design In Our Ultra-Premium 8K & 4K TVs.  Discover Samsung Event · Real\u001b[0m\n",
       "\u001b[1;3;38;5;51m          > Depth Enhancer · Anti-Reflection · \u001b[0m\u001b[1;3;38;5;51m48\u001b[0m\u001b[1;3;38;5;51m mo \u001b[0m\u001b[1;3;38;5;51m0\u001b[0m\u001b[1;3;38;5;51m% APR Financing  The \u001b[0m\u001b[1;3;38;5;51m2023\u001b[0m\u001b[1;3;38;5;51m OLED TV Is Here Sa\u001b[0m\n",
       "\u001b[1;3;38;5;51m          > \u001b[0m\u001b[1;3;38;5;51m(\u001b[0m\u001b[1;3;38;5;51m...\u001b[0m\u001b[1;3;38;5;51m)\u001b[0m\n"
      ]
     },
     "metadata": {},
     "output_type": "display_data"
    },
    {
     "data": {
      "text/html": [
       "<pre style=\"margin:0px;;white-space:pre;overflow-x:auto;line-height:normal;font-family:Menlo,'DejaVu Sans Mono',consolas,'Courier New',monospace\"><span style=\"color: #7fffff; text-decoration-color: #7fffff; font-style: italic; text-decoration: underline\">Lisa</span><span style=\"color: #7fffff; text-decoration-color: #7fffff; font-style: italic\"> --&gt; </span><span style=\"color: #7fffff; text-decoration-color: #7fffff; font-style: italic; text-decoration: underline\">Lisa</span><span style=\"color: #7fffff; text-decoration-color: #7fffff; font-style: italic\">: </span><span style=\"color: #7fffff; text-decoration-color: #7fffff; font-weight: bold; font-style: italic\">[</span><span style=\"color: #7fffff; text-decoration-color: #7fffff; font-style: italic\">THOUGHT</span><span style=\"color: #7fffff; text-decoration-color: #7fffff; font-weight: bold; font-style: italic\">]</span><span style=\"color: #7fffff; text-decoration-color: #7fffff; font-style: italic\"> </span>\n",
       "<span style=\"color: #7fffff; text-decoration-color: #7fffff; font-style: italic\">          &gt; I will now act a bit, and then issue DONE.</span>\n",
       "</pre>\n"
      ],
      "text/plain": [
       "\u001b[2;3;4;38;5;51mLisa\u001b[0m\u001b[2;3;38;5;51m --> \u001b[0m\u001b[2;3;4;38;5;51mLisa\u001b[0m\u001b[2;3;38;5;51m: \u001b[0m\u001b[1;2;3;38;5;51m[\u001b[0m\u001b[2;3;38;5;51mTHOUGHT\u001b[0m\u001b[1;2;3;38;5;51m]\u001b[0m\u001b[2;3;38;5;51m \u001b[0m\n",
       "\u001b[2;3;38;5;51m          > I will now act a bit, and then issue DONE.\u001b[0m\n"
      ]
     },
     "metadata": {},
     "output_type": "display_data"
    },
    {
     "data": {
      "text/html": [
       "<pre style=\"margin:0px;;white-space:pre;overflow-x:auto;line-height:normal;font-family:Menlo,'DejaVu Sans Mono',consolas,'Courier New',monospace\"><span style=\"color: #7fffff; text-decoration-color: #7fffff; font-style: italic; text-decoration: underline\">Lisa</span><span style=\"color: #7fffff; text-decoration-color: #7fffff; font-style: italic\"> --&gt; </span><span style=\"color: #7fffff; text-decoration-color: #7fffff; font-style: italic; text-decoration: underline\">Lisa</span><span style=\"color: #7fffff; text-decoration-color: #7fffff; font-style: italic\">: </span><span style=\"color: #7fffff; text-decoration-color: #7fffff; font-weight: bold; font-style: italic\">[</span><span style=\"color: #7fffff; text-decoration-color: #7fffff; font-style: italic\">THOUGHT</span><span style=\"color: #7fffff; text-decoration-color: #7fffff; font-weight: bold; font-style: italic\">]</span><span style=\"color: #7fffff; text-decoration-color: #7fffff; font-style: italic\"> </span>\n",
       "<span style=\"color: #7fffff; text-decoration-color: #7fffff; font-style: italic\">          &gt; I will now act a bit, and then issue DONE.</span>\n",
       "</pre>\n"
      ],
      "text/plain": [
       "\u001b[2;3;4;38;5;51mLisa\u001b[0m\u001b[2;3;38;5;51m --> \u001b[0m\u001b[2;3;4;38;5;51mLisa\u001b[0m\u001b[2;3;38;5;51m: \u001b[0m\u001b[1;2;3;38;5;51m[\u001b[0m\u001b[2;3;38;5;51mTHOUGHT\u001b[0m\u001b[1;2;3;38;5;51m]\u001b[0m\u001b[2;3;38;5;51m \u001b[0m\n",
       "\u001b[2;3;38;5;51m          > I will now act a bit, and then issue DONE.\u001b[0m\n"
      ]
     },
     "metadata": {},
     "output_type": "display_data"
    },
    {
     "data": {
      "text/html": [
       "<pre style=\"margin:0px;;white-space:pre;overflow-x:auto;line-height:normal;font-family:Menlo,'DejaVu Sans Mono',consolas,'Courier New',monospace\"><span style=\"color: #7fffff; text-decoration-color: #7fffff; font-style: italic; text-decoration: underline\">Lisa</span><span style=\"color: #7fffff; text-decoration-color: #7fffff; font-style: italic\"> --&gt; </span><span style=\"color: #7fffff; text-decoration-color: #7fffff; font-style: italic; text-decoration: underline\">Lisa</span><span style=\"color: #7fffff; text-decoration-color: #7fffff; font-style: italic\">: </span><span style=\"color: #7fffff; text-decoration-color: #7fffff; font-weight: bold; font-style: italic\">[</span><span style=\"color: #7fffff; text-decoration-color: #7fffff; font-style: italic\">THOUGHT</span><span style=\"color: #7fffff; text-decoration-color: #7fffff; font-weight: bold; font-style: italic\">]</span><span style=\"color: #7fffff; text-decoration-color: #7fffff; font-style: italic\"> </span>\n",
       "<span style=\"color: #7fffff; text-decoration-color: #7fffff; font-style: italic\">          &gt; I will now act a bit, and then issue DONE.</span>\n",
       "</pre>\n"
      ],
      "text/plain": [
       "\u001b[2;3;4;38;5;51mLisa\u001b[0m\u001b[2;3;38;5;51m --> \u001b[0m\u001b[2;3;4;38;5;51mLisa\u001b[0m\u001b[2;3;38;5;51m: \u001b[0m\u001b[1;2;3;38;5;51m[\u001b[0m\u001b[2;3;38;5;51mTHOUGHT\u001b[0m\u001b[1;2;3;38;5;51m]\u001b[0m\u001b[2;3;38;5;51m \u001b[0m\n",
       "\u001b[2;3;38;5;51m          > I will now act a bit, and then issue DONE.\u001b[0m\n"
      ]
     },
     "metadata": {},
     "output_type": "display_data"
    },
    {
     "data": {
      "text/html": [
       "<pre style=\"margin:0px;;white-space:pre;overflow-x:auto;line-height:normal;font-family:Menlo,'DejaVu Sans Mono',consolas,'Courier New',monospace\"><span style=\"color: #7fffff; text-decoration-color: #7fffff; font-style: italic; text-decoration: underline\">Lisa</span><span style=\"color: #7fffff; text-decoration-color: #7fffff; font-style: italic\"> --&gt; </span><span style=\"color: #7fffff; text-decoration-color: #7fffff; font-style: italic; text-decoration: underline\">Lisa</span><span style=\"color: #7fffff; text-decoration-color: #7fffff; font-style: italic\">: </span><span style=\"color: #7fffff; text-decoration-color: #7fffff; font-weight: bold; font-style: italic\">[</span><span style=\"color: #7fffff; text-decoration-color: #7fffff; font-style: italic\">THOUGHT</span><span style=\"color: #7fffff; text-decoration-color: #7fffff; font-weight: bold; font-style: italic\">]</span><span style=\"color: #7fffff; text-decoration-color: #7fffff; font-style: italic\"> </span>\n",
       "<span style=\"color: #7fffff; text-decoration-color: #7fffff; font-style: italic\">          &gt; I will now act a bit, and then issue DONE.</span>\n",
       "</pre>\n"
      ],
      "text/plain": [
       "\u001b[2;3;4;38;5;51mLisa\u001b[0m\u001b[2;3;38;5;51m --> \u001b[0m\u001b[2;3;4;38;5;51mLisa\u001b[0m\u001b[2;3;38;5;51m: \u001b[0m\u001b[1;2;3;38;5;51m[\u001b[0m\u001b[2;3;38;5;51mTHOUGHT\u001b[0m\u001b[1;2;3;38;5;51m]\u001b[0m\u001b[2;3;38;5;51m \u001b[0m\n",
       "\u001b[2;3;38;5;51m          > I will now act a bit, and then issue DONE.\u001b[0m\n"
      ]
     },
     "metadata": {},
     "output_type": "display_data"
    },
    {
     "data": {
      "text/html": [
       "<pre style=\"margin:0px;;white-space:pre;overflow-x:auto;line-height:normal;font-family:Menlo,'DejaVu Sans Mono',consolas,'Courier New',monospace\"><span style=\"color: #7fffff; text-decoration-color: #7fffff; font-style: italic; text-decoration: underline\">Lisa</span><span style=\"color: #7fffff; text-decoration-color: #7fffff; font-style: italic\"> --&gt; </span><span style=\"color: #7fffff; text-decoration-color: #7fffff; font-style: italic; text-decoration: underline\">Lisa</span><span style=\"color: #7fffff; text-decoration-color: #7fffff; font-style: italic\">: </span><span style=\"color: #7fffff; text-decoration-color: #7fffff; font-weight: bold; font-style: italic\">[</span><span style=\"color: #7fffff; text-decoration-color: #7fffff; font-style: italic\">THOUGHT</span><span style=\"color: #7fffff; text-decoration-color: #7fffff; font-weight: bold; font-style: italic\">]</span><span style=\"color: #7fffff; text-decoration-color: #7fffff; font-style: italic\"> </span>\n",
       "<span style=\"color: #7fffff; text-decoration-color: #7fffff; font-style: italic\">          &gt; I will now act a bit, and then issue DONE.</span>\n",
       "</pre>\n"
      ],
      "text/plain": [
       "\u001b[2;3;4;38;5;51mLisa\u001b[0m\u001b[2;3;38;5;51m --> \u001b[0m\u001b[2;3;4;38;5;51mLisa\u001b[0m\u001b[2;3;38;5;51m: \u001b[0m\u001b[1;2;3;38;5;51m[\u001b[0m\u001b[2;3;38;5;51mTHOUGHT\u001b[0m\u001b[1;2;3;38;5;51m]\u001b[0m\u001b[2;3;38;5;51m \u001b[0m\n",
       "\u001b[2;3;38;5;51m          > I will now act a bit, and then issue DONE.\u001b[0m\n"
      ]
     },
     "metadata": {},
     "output_type": "display_data"
    },
    {
     "ename": "KeyError",
     "evalue": "'cognitive_state'",
     "output_type": "error",
     "traceback": [
      "\u001b[0;31m---------------------------------------------------------------------------\u001b[0m",
      "\u001b[0;31mKeyError\u001b[0m                                  Traceback (most recent call last)",
      "Cell \u001b[0;32mIn[9], line 1\u001b[0m\n\u001b[0;32m----> 1\u001b[0m \u001b[43mlisa\u001b[49m\u001b[38;5;241;43m.\u001b[39;49m\u001b[43mlisten_and_act\u001b[49m\u001b[43m(\u001b[49m\u001b[43meval_request_msg\u001b[49m\u001b[43m)\u001b[49m\n",
      "File \u001b[0;32m/mnt/e/workspace/learn-tiny-troupe/examples/../tinytroupe/control.py:542\u001b[0m, in \u001b[0;36mtransactional.<locals>.wrapper\u001b[0;34m(*args, **kwargs)\u001b[0m\n\u001b[1;32m    539\u001b[0m logger\u001b[38;5;241m.\u001b[39mdebug(\u001b[38;5;124mf\u001b[39m\u001b[38;5;124m\"\u001b[39m\u001b[38;5;124m-----------------------------------------> Transaction: \u001b[39m\u001b[38;5;132;01m{\u001b[39;00mfunc\u001b[38;5;241m.\u001b[39m\u001b[38;5;18m__name__\u001b[39m\u001b[38;5;132;01m}\u001b[39;00m\u001b[38;5;124m with args \u001b[39m\u001b[38;5;132;01m{\u001b[39;00margs[\u001b[38;5;241m1\u001b[39m:]\u001b[38;5;132;01m}\u001b[39;00m\u001b[38;5;124m and kwargs \u001b[39m\u001b[38;5;132;01m{\u001b[39;00mkwargs\u001b[38;5;132;01m}\u001b[39;00m\u001b[38;5;124m under simulation \u001b[39m\u001b[38;5;132;01m{\u001b[39;00mobj_sim_id\u001b[38;5;132;01m}\u001b[39;00m\u001b[38;5;124m.\u001b[39m\u001b[38;5;124m\"\u001b[39m)\n\u001b[1;32m    541\u001b[0m transaction \u001b[38;5;241m=\u001b[39m Transaction(obj_under_transaction, simulation, func, \u001b[38;5;241m*\u001b[39margs, \u001b[38;5;241m*\u001b[39m\u001b[38;5;241m*\u001b[39mkwargs)\n\u001b[0;32m--> 542\u001b[0m result \u001b[38;5;241m=\u001b[39m \u001b[43mtransaction\u001b[49m\u001b[38;5;241;43m.\u001b[39;49m\u001b[43mexecute\u001b[49m\u001b[43m(\u001b[49m\u001b[43m)\u001b[49m\n\u001b[1;32m    543\u001b[0m \u001b[38;5;28;01mreturn\u001b[39;00m result\n",
      "File \u001b[0;32m/mnt/e/workspace/learn-tiny-troupe/examples/../tinytroupe/control.py:427\u001b[0m, in \u001b[0;36mTransaction.execute\u001b[0;34m(self)\u001b[0m\n\u001b[1;32m    424\u001b[0m \u001b[38;5;66;03m# Transaction caching will only operate if there is a simulation and it is started\u001b[39;00m\n\u001b[1;32m    425\u001b[0m \u001b[38;5;28;01mif\u001b[39;00m \u001b[38;5;28mself\u001b[39m\u001b[38;5;241m.\u001b[39msimulation \u001b[38;5;129;01mis\u001b[39;00m \u001b[38;5;28;01mNone\u001b[39;00m \u001b[38;5;129;01mor\u001b[39;00m \u001b[38;5;28mself\u001b[39m\u001b[38;5;241m.\u001b[39msimulation\u001b[38;5;241m.\u001b[39mstatus \u001b[38;5;241m==\u001b[39m Simulation\u001b[38;5;241m.\u001b[39mSTATUS_STOPPED:\n\u001b[1;32m    426\u001b[0m     \u001b[38;5;66;03m# Compute the function and return it, no caching, since the simulation is not started\u001b[39;00m\n\u001b[0;32m--> 427\u001b[0m     output \u001b[38;5;241m=\u001b[39m \u001b[38;5;28;43mself\u001b[39;49m\u001b[38;5;241;43m.\u001b[39;49m\u001b[43mfunction\u001b[49m\u001b[43m(\u001b[49m\u001b[38;5;241;43m*\u001b[39;49m\u001b[38;5;28;43mself\u001b[39;49m\u001b[38;5;241;43m.\u001b[39;49m\u001b[43margs\u001b[49m\u001b[43m,\u001b[49m\u001b[43m \u001b[49m\u001b[38;5;241;43m*\u001b[39;49m\u001b[38;5;241;43m*\u001b[39;49m\u001b[38;5;28;43mself\u001b[39;49m\u001b[38;5;241;43m.\u001b[39;49m\u001b[43mkwargs\u001b[49m\u001b[43m)\u001b[49m\n\u001b[1;32m    429\u001b[0m \u001b[38;5;28;01melif\u001b[39;00m \u001b[38;5;28mself\u001b[39m\u001b[38;5;241m.\u001b[39msimulation\u001b[38;5;241m.\u001b[39mstatus \u001b[38;5;241m==\u001b[39m Simulation\u001b[38;5;241m.\u001b[39mSTATUS_STARTED:\n\u001b[1;32m    430\u001b[0m     \u001b[38;5;66;03m# Compute the event hash\u001b[39;00m\n\u001b[1;32m    431\u001b[0m     event_hash \u001b[38;5;241m=\u001b[39m \u001b[38;5;28mself\u001b[39m\u001b[38;5;241m.\u001b[39msimulation\u001b[38;5;241m.\u001b[39m_function_call_hash(\u001b[38;5;28mself\u001b[39m\u001b[38;5;241m.\u001b[39mfunction_name, \u001b[38;5;241m*\u001b[39m\u001b[38;5;28mself\u001b[39m\u001b[38;5;241m.\u001b[39margs, \u001b[38;5;241m*\u001b[39m\u001b[38;5;241m*\u001b[39m\u001b[38;5;28mself\u001b[39m\u001b[38;5;241m.\u001b[39mkwargs)\n",
      "File \u001b[0;32m/mnt/e/workspace/learn-tiny-troupe/examples/../tinytroupe/agent.py:622\u001b[0m, in \u001b[0;36mTinyPerson.listen_and_act\u001b[0;34m(self, speech, return_actions, max_content_length)\u001b[0m\n\u001b[1;32m    617\u001b[0m \u001b[38;5;250m\u001b[39m\u001b[38;5;124;03m\"\"\"\u001b[39;00m\n\u001b[1;32m    618\u001b[0m \u001b[38;5;124;03mConvenience method that combines the `listen` and `act` methods.\u001b[39;00m\n\u001b[1;32m    619\u001b[0m \u001b[38;5;124;03m\"\"\"\u001b[39;00m\n\u001b[1;32m    621\u001b[0m \u001b[38;5;28mself\u001b[39m\u001b[38;5;241m.\u001b[39mlisten(speech, max_content_length\u001b[38;5;241m=\u001b[39mmax_content_length)\n\u001b[0;32m--> 622\u001b[0m \u001b[38;5;28;01mreturn\u001b[39;00m \u001b[38;5;28;43mself\u001b[39;49m\u001b[38;5;241;43m.\u001b[39;49m\u001b[43mact\u001b[49m\u001b[43m(\u001b[49m\n\u001b[1;32m    623\u001b[0m \u001b[43m    \u001b[49m\u001b[43mreturn_actions\u001b[49m\u001b[38;5;241;43m=\u001b[39;49m\u001b[43mreturn_actions\u001b[49m\u001b[43m,\u001b[49m\u001b[43m \u001b[49m\u001b[43mmax_content_length\u001b[49m\u001b[38;5;241;43m=\u001b[39;49m\u001b[43mmax_content_length\u001b[49m\n\u001b[1;32m    624\u001b[0m \u001b[43m\u001b[49m\u001b[43m)\u001b[49m\n",
      "File \u001b[0;32m/mnt/e/workspace/learn-tiny-troupe/examples/../tinytroupe/control.py:542\u001b[0m, in \u001b[0;36mtransactional.<locals>.wrapper\u001b[0;34m(*args, **kwargs)\u001b[0m\n\u001b[1;32m    539\u001b[0m logger\u001b[38;5;241m.\u001b[39mdebug(\u001b[38;5;124mf\u001b[39m\u001b[38;5;124m\"\u001b[39m\u001b[38;5;124m-----------------------------------------> Transaction: \u001b[39m\u001b[38;5;132;01m{\u001b[39;00mfunc\u001b[38;5;241m.\u001b[39m\u001b[38;5;18m__name__\u001b[39m\u001b[38;5;132;01m}\u001b[39;00m\u001b[38;5;124m with args \u001b[39m\u001b[38;5;132;01m{\u001b[39;00margs[\u001b[38;5;241m1\u001b[39m:]\u001b[38;5;132;01m}\u001b[39;00m\u001b[38;5;124m and kwargs \u001b[39m\u001b[38;5;132;01m{\u001b[39;00mkwargs\u001b[38;5;132;01m}\u001b[39;00m\u001b[38;5;124m under simulation \u001b[39m\u001b[38;5;132;01m{\u001b[39;00mobj_sim_id\u001b[38;5;132;01m}\u001b[39;00m\u001b[38;5;124m.\u001b[39m\u001b[38;5;124m\"\u001b[39m)\n\u001b[1;32m    541\u001b[0m transaction \u001b[38;5;241m=\u001b[39m Transaction(obj_under_transaction, simulation, func, \u001b[38;5;241m*\u001b[39margs, \u001b[38;5;241m*\u001b[39m\u001b[38;5;241m*\u001b[39mkwargs)\n\u001b[0;32m--> 542\u001b[0m result \u001b[38;5;241m=\u001b[39m \u001b[43mtransaction\u001b[49m\u001b[38;5;241;43m.\u001b[39;49m\u001b[43mexecute\u001b[49m\u001b[43m(\u001b[49m\u001b[43m)\u001b[49m\n\u001b[1;32m    543\u001b[0m \u001b[38;5;28;01mreturn\u001b[39;00m result\n",
      "File \u001b[0;32m/mnt/e/workspace/learn-tiny-troupe/examples/../tinytroupe/control.py:427\u001b[0m, in \u001b[0;36mTransaction.execute\u001b[0;34m(self)\u001b[0m\n\u001b[1;32m    424\u001b[0m \u001b[38;5;66;03m# Transaction caching will only operate if there is a simulation and it is started\u001b[39;00m\n\u001b[1;32m    425\u001b[0m \u001b[38;5;28;01mif\u001b[39;00m \u001b[38;5;28mself\u001b[39m\u001b[38;5;241m.\u001b[39msimulation \u001b[38;5;129;01mis\u001b[39;00m \u001b[38;5;28;01mNone\u001b[39;00m \u001b[38;5;129;01mor\u001b[39;00m \u001b[38;5;28mself\u001b[39m\u001b[38;5;241m.\u001b[39msimulation\u001b[38;5;241m.\u001b[39mstatus \u001b[38;5;241m==\u001b[39m Simulation\u001b[38;5;241m.\u001b[39mSTATUS_STOPPED:\n\u001b[1;32m    426\u001b[0m     \u001b[38;5;66;03m# Compute the function and return it, no caching, since the simulation is not started\u001b[39;00m\n\u001b[0;32m--> 427\u001b[0m     output \u001b[38;5;241m=\u001b[39m \u001b[38;5;28;43mself\u001b[39;49m\u001b[38;5;241;43m.\u001b[39;49m\u001b[43mfunction\u001b[49m\u001b[43m(\u001b[49m\u001b[38;5;241;43m*\u001b[39;49m\u001b[38;5;28;43mself\u001b[39;49m\u001b[38;5;241;43m.\u001b[39;49m\u001b[43margs\u001b[49m\u001b[43m,\u001b[49m\u001b[43m \u001b[49m\u001b[38;5;241;43m*\u001b[39;49m\u001b[38;5;241;43m*\u001b[39;49m\u001b[38;5;28;43mself\u001b[39;49m\u001b[38;5;241;43m.\u001b[39;49m\u001b[43mkwargs\u001b[49m\u001b[43m)\u001b[49m\n\u001b[1;32m    429\u001b[0m \u001b[38;5;28;01melif\u001b[39;00m \u001b[38;5;28mself\u001b[39m\u001b[38;5;241m.\u001b[39msimulation\u001b[38;5;241m.\u001b[39mstatus \u001b[38;5;241m==\u001b[39m Simulation\u001b[38;5;241m.\u001b[39mSTATUS_STARTED:\n\u001b[1;32m    430\u001b[0m     \u001b[38;5;66;03m# Compute the event hash\u001b[39;00m\n\u001b[1;32m    431\u001b[0m     event_hash \u001b[38;5;241m=\u001b[39m \u001b[38;5;28mself\u001b[39m\u001b[38;5;241m.\u001b[39msimulation\u001b[38;5;241m.\u001b[39m_function_call_hash(\u001b[38;5;28mself\u001b[39m\u001b[38;5;241m.\u001b[39mfunction_name, \u001b[38;5;241m*\u001b[39m\u001b[38;5;28mself\u001b[39m\u001b[38;5;241m.\u001b[39margs, \u001b[38;5;241m*\u001b[39m\u001b[38;5;241m*\u001b[39m\u001b[38;5;28mself\u001b[39m\u001b[38;5;241m.\u001b[39mkwargs)\n",
      "File \u001b[0;32m/mnt/e/workspace/learn-tiny-troupe/examples/../tinytroupe/agent.py:484\u001b[0m, in \u001b[0;36mTinyPerson.act\u001b[0;34m(self, until_done, n, return_actions, max_content_length)\u001b[0m\n\u001b[1;32m    481\u001b[0m                 logger\u001b[38;5;241m.\u001b[39mwarning(\u001b[38;5;124mf\u001b[39m\u001b[38;5;124m\"\u001b[39m\u001b[38;5;124m[\u001b[39m\u001b[38;5;132;01m{\u001b[39;00m\u001b[38;5;28mself\u001b[39m\u001b[38;5;241m.\u001b[39mname\u001b[38;5;132;01m}\u001b[39;00m\u001b[38;5;124m] Agent \u001b[39m\u001b[38;5;132;01m{\u001b[39;00m\u001b[38;5;28mself\u001b[39m\u001b[38;5;241m.\u001b[39mname\u001b[38;5;132;01m}\u001b[39;00m\u001b[38;5;124m is acting in a loop. This may be a bug. Let\u001b[39m\u001b[38;5;124m'\u001b[39m\u001b[38;5;124ms stop it here anyway.\u001b[39m\u001b[38;5;124m\"\u001b[39m)\n\u001b[1;32m    482\u001b[0m                 \u001b[38;5;28;01mbreak\u001b[39;00m\n\u001b[0;32m--> 484\u001b[0m         \u001b[43maux_act_once\u001b[49m\u001b[43m(\u001b[49m\u001b[43m)\u001b[49m\n\u001b[1;32m    486\u001b[0m \u001b[38;5;28;01mif\u001b[39;00m return_actions:\n\u001b[1;32m    487\u001b[0m     \u001b[38;5;28;01mreturn\u001b[39;00m contents\n",
      "File \u001b[0;32m/mnt/e/workspace/learn-tiny-troupe/examples/../tinytroupe/utils.py:118\u001b[0m, in \u001b[0;36mrepeat_on_error.<locals>.decorator.<locals>.wrapper\u001b[0;34m(*args, **kwargs)\u001b[0m\n\u001b[1;32m    116\u001b[0m logger\u001b[38;5;241m.\u001b[39mdebug(\u001b[38;5;124mf\u001b[39m\u001b[38;5;124m\"\u001b[39m\u001b[38;5;124mException occurred: \u001b[39m\u001b[38;5;132;01m{\u001b[39;00me\u001b[38;5;132;01m}\u001b[39;00m\u001b[38;5;124m\"\u001b[39m)\n\u001b[1;32m    117\u001b[0m \u001b[38;5;28;01mif\u001b[39;00m i \u001b[38;5;241m==\u001b[39m retries \u001b[38;5;241m-\u001b[39m \u001b[38;5;241m1\u001b[39m:\n\u001b[0;32m--> 118\u001b[0m     \u001b[38;5;28;01mraise\u001b[39;00m e\n\u001b[1;32m    119\u001b[0m \u001b[38;5;28;01melse\u001b[39;00m:\n\u001b[1;32m    120\u001b[0m     logger\u001b[38;5;241m.\u001b[39mdebug(\u001b[38;5;124mf\u001b[39m\u001b[38;5;124m\"\u001b[39m\u001b[38;5;124mRetrying (\u001b[39m\u001b[38;5;132;01m{\u001b[39;00mi\u001b[38;5;241m+\u001b[39m\u001b[38;5;241m1\u001b[39m\u001b[38;5;132;01m}\u001b[39;00m\u001b[38;5;124m/\u001b[39m\u001b[38;5;132;01m{\u001b[39;00mretries\u001b[38;5;132;01m}\u001b[39;00m\u001b[38;5;124m)...\u001b[39m\u001b[38;5;124m\"\u001b[39m)\n",
      "File \u001b[0;32m/mnt/e/workspace/learn-tiny-troupe/examples/../tinytroupe/utils.py:114\u001b[0m, in \u001b[0;36mrepeat_on_error.<locals>.decorator.<locals>.wrapper\u001b[0;34m(*args, **kwargs)\u001b[0m\n\u001b[1;32m    112\u001b[0m \u001b[38;5;28;01mfor\u001b[39;00m i \u001b[38;5;129;01min\u001b[39;00m \u001b[38;5;28mrange\u001b[39m(retries):\n\u001b[1;32m    113\u001b[0m     \u001b[38;5;28;01mtry\u001b[39;00m:\n\u001b[0;32m--> 114\u001b[0m         \u001b[38;5;28;01mreturn\u001b[39;00m \u001b[43mfunc\u001b[49m\u001b[43m(\u001b[49m\u001b[38;5;241;43m*\u001b[39;49m\u001b[43margs\u001b[49m\u001b[43m,\u001b[49m\u001b[43m \u001b[49m\u001b[38;5;241;43m*\u001b[39;49m\u001b[38;5;241;43m*\u001b[39;49m\u001b[43mkwargs\u001b[49m\u001b[43m)\u001b[49m\n\u001b[1;32m    115\u001b[0m     \u001b[38;5;28;01mexcept\u001b[39;00m \u001b[38;5;28mtuple\u001b[39m(exceptions) \u001b[38;5;28;01mas\u001b[39;00m e:\n\u001b[1;32m    116\u001b[0m         logger\u001b[38;5;241m.\u001b[39mdebug(\u001b[38;5;124mf\u001b[39m\u001b[38;5;124m\"\u001b[39m\u001b[38;5;124mException occurred: \u001b[39m\u001b[38;5;132;01m{\u001b[39;00me\u001b[38;5;132;01m}\u001b[39;00m\u001b[38;5;124m\"\u001b[39m)\n",
      "File \u001b[0;32m/mnt/e/workspace/learn-tiny-troupe/examples/../tinytroupe/agent.py:437\u001b[0m, in \u001b[0;36mTinyPerson.act.<locals>.aux_act_once\u001b[0;34m()\u001b[0m\n\u001b[1;32m    433\u001b[0m role, content \u001b[38;5;241m=\u001b[39m \u001b[38;5;28mself\u001b[39m\u001b[38;5;241m.\u001b[39m_produce_message()\n\u001b[1;32m    435\u001b[0m \u001b[38;5;28mself\u001b[39m\u001b[38;5;241m.\u001b[39mepisodic_memory\u001b[38;5;241m.\u001b[39mstore({\u001b[38;5;124m'\u001b[39m\u001b[38;5;124mrole\u001b[39m\u001b[38;5;124m'\u001b[39m: role, \u001b[38;5;124m'\u001b[39m\u001b[38;5;124mcontent\u001b[39m\u001b[38;5;124m'\u001b[39m: content, \u001b[38;5;124m'\u001b[39m\u001b[38;5;124msimulation_timestamp\u001b[39m\u001b[38;5;124m'\u001b[39m: \u001b[38;5;28mself\u001b[39m\u001b[38;5;241m.\u001b[39miso_datetime()})\n\u001b[0;32m--> 437\u001b[0m cognitive_state \u001b[38;5;241m=\u001b[39m \u001b[43mcontent\u001b[49m\u001b[43m[\u001b[49m\u001b[38;5;124;43m\"\u001b[39;49m\u001b[38;5;124;43mcognitive_state\u001b[39;49m\u001b[38;5;124;43m\"\u001b[39;49m\u001b[43m]\u001b[49m\n\u001b[1;32m    440\u001b[0m action \u001b[38;5;241m=\u001b[39m content[\u001b[38;5;124m'\u001b[39m\u001b[38;5;124maction\u001b[39m\u001b[38;5;124m'\u001b[39m]\n\u001b[1;32m    442\u001b[0m \u001b[38;5;28mself\u001b[39m\u001b[38;5;241m.\u001b[39m_actions_buffer\u001b[38;5;241m.\u001b[39mappend(action)\n",
      "\u001b[0;31mKeyError\u001b[0m: 'cognitive_state'"
     ]
    }
   ],
   "source": [
    "lisa.listen_and_act(eval_request_msg)"
   ]
  },
  {
   "cell_type": "markdown",
   "metadata": {},
   "source": [
    "Let's extract from the agent's interaction the best ad chosen. In this manner, we can easily process results later."
   ]
  },
  {
   "cell_type": "code",
   "execution_count": null,
   "metadata": {},
   "outputs": [],
   "source": [
    "extractor = ResultsExtractor()\n",
    "\n",
    "extraction_objective=\"Find the ad the agent chose. Extract the Ad number and title.\"\n",
    "\n",
    "res = extractor.extract_results_from_agent(lisa, \n",
    "                          extraction_objective=extraction_objective,\n",
    "                          situation=situation,\n",
    "                          fields=[\"ad_number\", \"ad_title\"],\n",
    "                          verbose=True)\n",
    "\n",
    "res"
   ]
  },
  {
   "cell_type": "markdown",
   "metadata": {},
   "source": [
    "We can then easily get the ad number and title from the results:"
   ]
  },
  {
   "cell_type": "code",
   "execution_count": null,
   "metadata": {},
   "outputs": [],
   "source": [
    "f\"{res['ad_number']}: {res['ad_title']}\""
   ]
  },
  {
   "cell_type": "markdown",
   "metadata": {},
   "source": [
    "### Try with agents generated on the fly too\n",
    "\n",
    "We don't really need to spend a lot of time customizing agents. We can create them on the fly from simple descriptions."
   ]
  },
  {
   "cell_type": "code",
   "execution_count": null,
   "metadata": {},
   "outputs": [],
   "source": [
    "TinyPerson.all_agents"
   ]
  },
  {
   "cell_type": "code",
   "execution_count": null,
   "metadata": {},
   "outputs": [],
   "source": [
    "factory = TinyPersonFactory(\"Generates people with a broad range of personalities, backgrounds and socioeconomic status.\")"
   ]
  },
  {
   "cell_type": "code",
   "execution_count": null,
   "metadata": {},
   "outputs": [],
   "source": [
    "TinyPerson.all_agents"
   ]
  },
  {
   "cell_type": "code",
   "execution_count": null,
   "metadata": {},
   "outputs": [],
   "source": [
    "factory.generated_minibios"
   ]
  },
  {
   "cell_type": "code",
   "execution_count": null,
   "metadata": {},
   "outputs": [],
   "source": [
    "people = [factory.generate_person(\"A Brazilian person that is a doctor, like pets and the nature and love heavy metal.\"),\n",
    "          factory.generate_person(\"A graphic designer who is an art and travel lover. Also uses TV as a computer monitor for work.\"),\n",
    "          factory.generate_person(\"A wealthy banker who loves to show his money to others. Only uses the top and most expensive brands.\"),\n",
    "          factory.generate_person(\"A poor grad student who is always looking for a bargain. Needs loans for everything.\")]"
   ]
  },
  {
   "cell_type": "code",
   "execution_count": null,
   "metadata": {},
   "outputs": [],
   "source": [
    "TinyPerson.all_agents"
   ]
  },
  {
   "cell_type": "code",
   "execution_count": null,
   "metadata": {},
   "outputs": [],
   "source": [
    "factory.generated_minibios"
   ]
  },
  {
   "cell_type": "code",
   "execution_count": null,
   "metadata": {},
   "outputs": [],
   "source": [
    "for person in people:\n",
    "    person.listen_and_act(eval_request_msg)\n",
    "    print(\"---------------------\")"
   ]
  },
  {
   "cell_type": "code",
   "execution_count": null,
   "metadata": {},
   "outputs": [],
   "source": [
    "extractor = ResultsExtractor()\n",
    "extraction_objective=\"Find the ad the agent chose. Extract the Ad number and title. Extract only ONE result.\"\n",
    "\n",
    "choices =[]\n",
    "\n",
    "for person in people:\n",
    "    res = extractor.extract_results_from_agent(person,\n",
    "                                    extraction_objective=extraction_objective,\n",
    "                                    situation=situation,\n",
    "                                    fields=[\"ad_number\", \"ad_title\"],\n",
    "                                    fields_hints={\"ad_number\": \"Must be an integer, not a string.\"},\n",
    "                                    verbose=True)\n",
    "\n",
    "    choices.append(res)"
   ]
  },
  {
   "cell_type": "code",
   "execution_count": null,
   "metadata": {},
   "outputs": [],
   "source": [
    "choices"
   ]
  },
  {
   "cell_type": "code",
   "execution_count": null,
   "metadata": {},
   "outputs": [],
   "source": [
    "votes = {}\n",
    "for choice in choices:\n",
    "    print(f\"{choice['ad_number']}: {choice['ad_title']}\")\n",
    "\n",
    "    ad_number = choice['ad_number']\n",
    "    if ad_number not in votes:\n",
    "        votes[ad_number] = 0\n",
    "    votes[ad_number] += 1"
   ]
  },
  {
   "cell_type": "code",
   "execution_count": null,
   "metadata": {},
   "outputs": [],
   "source": [
    "votes"
   ]
  },
  {
   "cell_type": "markdown",
   "metadata": {},
   "source": [
    "Finally, we pick the winner ad."
   ]
  },
  {
   "cell_type": "code",
   "execution_count": null,
   "metadata": {},
   "outputs": [],
   "source": [
    "# picks the most voted ad\n",
    "winner = max(votes, key=votes.get)\n",
    "winner"
   ]
  },
  {
   "cell_type": "code",
   "execution_count": null,
   "metadata": {},
   "outputs": [],
   "source": []
  }
 ],
 "metadata": {
  "kernelspec": {
   "display_name": "Python 3 (ipykernel)",
   "language": "python",
   "name": "python3"
  },
  "language_info": {
   "codemirror_mode": {
    "name": "ipython",
    "version": 3
   },
   "file_extension": ".py",
   "mimetype": "text/x-python",
   "name": "python",
   "nbconvert_exporter": "python",
   "pygments_lexer": "ipython3",
   "version": "3.10.15"
  }
 },
 "nbformat": 4,
 "nbformat_minor": 4
}
